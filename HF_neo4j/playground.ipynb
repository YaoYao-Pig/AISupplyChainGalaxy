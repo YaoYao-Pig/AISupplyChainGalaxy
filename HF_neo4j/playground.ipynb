{
 "cells": [
  {
   "cell_type": "code",
   "execution_count": null,
   "metadata": {},
   "outputs": [],
   "source": [
    "print(\"hello\")"
   ]
  },
  {
   "cell_type": "code",
   "execution_count": 4,
   "metadata": {},
   "outputs": [],
   "source": [
    "from neo4j import GraphDatabase, basic_auth"
   ]
  },
  {
   "cell_type": "code",
   "execution_count": 5,
   "metadata": {},
   "outputs": [],
   "source": [
    "driver = GraphDatabase.driver(\"bolt://localhost:7687\", auth=basic_auth(\"neo4j\", 'modeltree'))"
   ]
  },
  {
   "cell_type": "code",
   "execution_count": 6,
   "metadata": {},
   "outputs": [],
   "source": [
    "with driver.session() as session:\n",
    "    session.run(\"MERGE (p2:Person {age:2})\")"
   ]
  },
  {
   "cell_type": "code",
   "execution_count": 13,
   "metadata": {},
   "outputs": [],
   "source": [
    "import huggingface_hub"
   ]
  },
  {
   "cell_type": "code",
   "execution_count": 19,
   "metadata": {},
   "outputs": [],
   "source": [
    "import requests\n",
    "response = requests.get(\n",
    "  \"https://huggingface.co/api/models/black-forest-labs/FLUX.1-dev\",\n",
    "  params={},\n",
    "  headers={\"Authorization\":\"[YOUR_TOKEN]\"}\n",
    ")"
   ]
  },
  {
   "cell_type": "code",
   "execution_count": 21,
   "metadata": {},
   "outputs": [],
   "source": [
    "def get_model_list(relation_type, model_id):\n",
    "    model_list = list()\n",
    "    page_index = 0\n",
    "    while True:\n",
    "        url = f\"https://huggingface.co/models-json?other=base_model%3A{relation_type}%3A{model_id}&p={page_index}&sort=trending&withCount=false\"\n",
    "        payload = {}\n",
    "        headers = {\n",
    "            'accept': '*/*',\n",
    "            'accept-language': 'en-GB,en-US;q=0.9,en;q=0.8,zh-CN;q=0.7,zh-HK;q=0.6,zh-TW;q=0.5,zh;q=0.4',\n",
    "            'cookie': '__stripe_mid=b0d0777d-031c-40aa-a09a-2edc9f9b032f8e4c73; token=[YOUR_TOKEN]; _gcl_au=1.1.666042015.1726250984; ph_phc_Tbfg4EiRsr5iefFoth2Y1Hi3sttTeLQ5RV5TLg4hL1W_posthog=%7B%22distinct_id%22%3A%22191ec93aa619db-07fffea5cc9d82-17525637-16a7f0-191ec93aa62352d%22%2C%22%24device_id%22%3A%22191ec93aa619db-07fffea5cc9d82-17525637-16a7f0-191ec93aa62352d%22%2C%22%24user_state%22%3A%22anonymous%22%2C%22%24sesid%22%3A%5B1726251001516%2C%22191ec93aaaca7-0bf47bcfd61f63-17525637-16a7f0-191ec93aaad44eb%22%2C1726250986156%5D%2C%22%24session_recording_enabled_server_side%22%3Afalse%2C%22%24autocapture_disabled_server_side%22%3Afalse%2C%22%24active_feature_flags%22%3A%5B%5D%2C%22%24enabled_feature_flags%22%3A%7B%7D%2C%22%24feature_flag_payloads%22%3A%7B%7D%7D; _ga_CM1E1N1Q4R=GS1.1.1726250983.1.1.1726252390.0.0.0; _ga=GA1.2.1197305794.1725122777; __stripe_sid=9b8a6cde-0085-41a3-9821-95fe15962ed62f6fb0; aws-waf-token=1be10596-ab80-444b-a810-0e39c7a3231f:BgoAhpoxJWs9AQAA:Hix+RtsX4cRVyXXDvWaNpGXxjrNOPmr8IkNSwWd1tjJzYw7RRy5R+EkdbKceoZ0HHaRSr+7esxSaGiDFcns4rpTJ5xWWbPdgw9cA7O2pqkER4eX5m4YOU0irVYArq0jV5KSZx4ZuNaxrwPLoQSXqMrZUg+qjSMk8nRF7+n/zg+2yzw+BKfx5sy2mNUydmw4sOq4yYfoBttTmnxkIlcNjZuN0h5uM2FY7mf8BgXYlaUBps8F8ykgWICE44VZSg2sjQ9FKwcU=',\n",
    "            'if-none-match': 'W/\"38e8-cVFiB/fvlj7mglMdT0MZ+lbvPJ8\"',\n",
    "            'priority': 'u=1, i',\n",
    "            'referer': 'https://huggingface.co/models?other=base_model:finetune:meta-llama%2FLlama-3.2-1B&p=1&sort=trending',\n",
    "            'sec-ch-ua': '\"Chromium\";v=\"130\", \"Google Chrome\";v=\"130\", \"Not?A_Brand\";v=\"99\"',\n",
    "            'sec-ch-ua-mobile': '?0',\n",
    "            'sec-ch-ua-platform': '\"macOS\"',\n",
    "            'sec-fetch-dest': 'empty',\n",
    "            'sec-fetch-mode': 'cors',\n",
    "            'sec-fetch-site': 'same-origin',\n",
    "            'user-agent': 'Mozilla/5.0 (Macintosh; Intel Mac OS X 10_15_7) AppleWebKit/537.36 (KHTML, like Gecko) Chrome/130.0.0.0 Safari/537.36'\n",
    "        }\n",
    "        raw_response = requests.request(\"GET\", url, headers=headers, data=payload)\n",
    "        try:\n",
    "            response =  raw_response.json()\n",
    "            models = response['models']\n",
    "            if len(models) == 0:\n",
    "                break\n",
    "            model_list.extend(models)\n",
    "            page_index += 1\n",
    "        except:\n",
    "            break\n",
    "    return model_list"
   ]
  },
  {
   "cell_type": "code",
   "execution_count": null,
   "metadata": {},
   "outputs": [],
   "source": [
    "get_model_list(\"finetune\", \"meta-llama/Llama-3.2-1B\")"
   ]
  },
  {
   "cell_type": "code",
   "execution_count": 32,
   "metadata": {},
   "outputs": [],
   "source": [
    "from huggingface_hub import ModelCard\n",
    "\n",
    "card = ModelCard.load('Blackroot/Mirai-70B-2.1')"
   ]
  },
  {
   "cell_type": "code",
   "execution_count": null,
   "metadata": {},
   "outputs": [],
   "source": [
    "card.data.to_dict()"
   ]
  },
  {
   "cell_type": "code",
   "execution_count": null,
   "metadata": {},
   "outputs": [],
   "source": [
    "import json\n",
    "import hf_apis\n",
    "import neo4j_client\n",
    "\n",
    "# Environment setup\n",
    "hf_api = hf_apis.HF_API('[YOUR_TOKEN]')\n",
    "graph = neo4j_client.Graph('modeltree!')"
   ]
  },
  {
   "cell_type": "code",
   "execution_count": 2,
   "metadata": {},
   "outputs": [],
   "source": [
    "results = graph.get_nodes()"
   ]
  },
  {
   "cell_type": "code",
   "execution_count": null,
   "metadata": {},
   "outputs": [],
   "source": [
    "for line in results:\n",
    "    print(line)"
   ]
  },
  {
   "cell_type": "code",
   "execution_count": null,
   "metadata": {},
   "outputs": [],
   "source": []
  }
 ],
 "metadata": {
  "kernelspec": {
   "display_name": "modeltree",
   "language": "python",
   "name": "python3"
  },
  "language_info": {
   "codemirror_mode": {
    "name": "ipython",
    "version": 3
   },
   "file_extension": ".py",
   "mimetype": "text/x-python",
   "name": "python",
   "nbconvert_exporter": "python",
   "pygments_lexer": "ipython3",
   "version": "3.12.8"
  }
 },
 "nbformat": 4,
 "nbformat_minor": 2
}
